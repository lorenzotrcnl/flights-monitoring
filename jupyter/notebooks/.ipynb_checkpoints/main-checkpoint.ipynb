{
 "cells": [
  {
   "cell_type": "code",
   "execution_count": 5,
   "id": "6b7465a4-196a-4146-89a0-969965f2a041",
   "metadata": {},
   "outputs": [],
   "source": [
    "import requests\n",
    "import json"
   ]
  },
  {
   "cell_type": "code",
   "execution_count": null,
   "id": "bd1eaa2a-14b2-4b28-bb80-da8d818339b4",
   "metadata": {},
   "outputs": [],
   "source": [
    "# TOMTOM's TRAFFIC\n",
    "# https://developer.tomtom.com\n",
    "\n",
    "API_KEY = 'OcCuRwpXwm8P2ClYbU4H1yh1jCsvuYXY'\n",
    "\n",
    "# Napoli\n",
    "LATITUDE_ = '40.8517746'\n",
    "LONGITUDE_ = '14.2681244'\n",
    "\n",
    "response = requests.get(f'https://api.tomtom.com/traffic/services/4/flowSegmentData/absolute/20/json?key={API_KEY}&point={LATITUDE_},{LONGITUDE_}')\n",
    "\n",
    "json_object = json.dumps(response.json(), indent = 2) \n",
    "print(json_object)\n",
    "\n",
    "# Functional Road Class. This indicates the road type:\n",
    "#    FRC0: Motorway, freeway or other major road\n",
    "#    FRC1: Major road, less important than a motorway\n",
    "#    FRC2: Other major road\n",
    "#    FRC3: Secondary road\n",
    "#    FRC4: Local connecting road\n",
    "#    FRC5: Local road of high importance\n",
    "#    FRC6: Local road"
   ]
  },
  {
   "cell_type": "code",
   "execution_count": null,
   "id": "d2a76b7f-4760-405e-be47-a01aa15e0819",
   "metadata": {},
   "outputs": [],
   "source": [
    "# ELECTRICITY MAPS \n",
    "# https://www.electricitymaps.com\n",
    "API_KEY = 'ZoVnRUHS0K1Mw6Ucv7Y001pf7lBYlQN5'\n",
    "\n",
    "response = requests.get('https://api.electricitymap.org/v3/power-breakdown/latest', params={'lat': '48.8566','lon': '2.3522'}, headers={'auth-token: ZoVnRUHS0K1Mw6Ucv7Y001pf7lBYlQN5'})\n",
    "print(response.json())"
   ]
  },
  {
   "cell_type": "code",
   "execution_count": null,
   "id": "52771b47-abcf-496a-b9e6-e1d3c9d6289c",
   "metadata": {},
   "outputs": [],
   "source": [
    "# FLIGHTRADAR API\n",
    "%pip install FlightRadarAPI"
   ]
  },
  {
   "cell_type": "code",
   "execution_count": 2,
   "id": "681f1c14-d188-4b89-a10a-d94264e1ba83",
   "metadata": {},
   "outputs": [],
   "source": [
    "from FlightRadar24.api import FlightRadar24API\n",
    "fr_api = FlightRadar24API()"
   ]
  },
  {
   "cell_type": "code",
   "execution_count": null,
   "id": "cdae121c-c012-4555-94f1-e97679019a97",
   "metadata": {},
   "outputs": [],
   "source": [
    "airports = fr_api.get_flights()\n",
    "print(airports)"
   ]
  },
  {
   "cell_type": "code",
   "execution_count": 13,
   "id": "b4035fa1-53ef-481e-bc9f-837ebe7f6a7f",
   "metadata": {},
   "outputs": [
    {
     "ename": "AttributeError",
     "evalue": "'list' object has no attribute 'id'",
     "output_type": "error",
     "traceback": [
      "\u001b[0;31m---------------------------------------------------------------------------\u001b[0m",
      "\u001b[0;31mAttributeError\u001b[0m                            Traceback (most recent call last)",
      "Cell \u001b[0;32mIn [13], line 2\u001b[0m\n\u001b[1;32m      1\u001b[0m flight \u001b[38;5;241m=\u001b[39m fr_api\u001b[38;5;241m.\u001b[39mget_flights()\n\u001b[0;32m----> 2\u001b[0m details \u001b[38;5;241m=\u001b[39m fr_api\u001b[38;5;241m.\u001b[39mget_flight_details(flight\u001b[38;5;241m.\u001b[39mid)\n\u001b[1;32m      3\u001b[0m flight\u001b[38;5;241m.\u001b[39mset_flight_details(details)\n\u001b[1;32m      5\u001b[0m \u001b[38;5;28mprint\u001b[39m(\u001b[38;5;124m\"\u001b[39m\u001b[38;5;124mFlying to\u001b[39m\u001b[38;5;124m\"\u001b[39m, flight\u001b[38;5;241m.\u001b[39mdestination_airport_name)\n",
      "\u001b[0;31mAttributeError\u001b[0m: 'list' object has no attribute 'id'"
     ]
    }
   ],
   "source": [
    "flight = fr_api.get_flights()\n",
    "details = fr_api.get_flight_details(flight.id)\n",
    "flight.set_flight_details(details)\n",
    "\n",
    "print(\"Flying to\", flight.destination_airport_name)\n"
   ]
  },
  {
   "cell_type": "code",
   "execution_count": 3,
   "id": "cbb67541-93b4-40c7-bc7b-6cd27c1b4eda",
   "metadata": {},
   "outputs": [],
   "source": [
    "flights = fr_api.get_flights()"
   ]
  },
  {
   "cell_type": "code",
   "execution_count": null,
   "id": "8c86f899-c0f4-461b-8374-54798e02767a",
   "metadata": {},
   "outputs": [],
   "source": [
    "flights"
   ]
  },
  {
   "cell_type": "code",
   "execution_count": 110,
   "id": "cba3dad2-3b84-452c-8ec3-68da41bb561d",
   "metadata": {},
   "outputs": [
    {
     "data": {
      "text/plain": [
       "'2d95d833'"
      ]
     },
     "execution_count": 110,
     "metadata": {},
     "output_type": "execute_result"
    }
   ],
   "source": [
    "fr_api.get_flights()[2].id"
   ]
  },
  {
   "cell_type": "code",
   "execution_count": 115,
   "id": "e059ee6e-9d0b-4150-9085-006d43723757",
   "metadata": {},
   "outputs": [
    {
     "name": "stdout",
     "output_type": "stream",
     "text": [
      "Flying to Chicago O'Hare International Airport\n"
     ]
    }
   ],
   "source": [
    "flight = fr_api.get_flights()[100]\n",
    "details = fr_api.get_flight_details(flight.id)\n"
   ]
  },
  {
   "cell_type": "code",
   "execution_count": 100,
   "id": "ea6b3f8b-962b-4b4a-aa04-f20676984988",
   "metadata": {},
   "outputs": [
    {
     "data": {
      "text/plain": [
       "{'tl_y': 72.57,\n",
       " 'tl_x': -16.96,\n",
       " 'br_y': 33.57,\n",
       " 'br_x': 53.05,\n",
       " 'subzones': {'poland': {'tl_y': 56.86,\n",
       "   'tl_x': 11.06,\n",
       "   'br_y': 48.22,\n",
       "   'br_x': 28.26},\n",
       "  'germany': {'tl_y': 57.92, 'tl_x': 1.81, 'br_y': 45.81, 'br_x': 16.83},\n",
       "  'uk': {'tl_y': 62.61,\n",
       "   'tl_x': -13.07,\n",
       "   'br_y': 49.71,\n",
       "   'br_x': 3.46,\n",
       "   'subzones': {'london': {'tl_y': 53.06,\n",
       "     'tl_x': -2.87,\n",
       "     'br_y': 50.07,\n",
       "     'br_x': 3.26},\n",
       "    'ireland': {'tl_y': 56.22, 'tl_x': -11.71, 'br_y': 50.91, 'br_x': -4.4}}},\n",
       "  'spain': {'tl_y': 44.36, 'tl_x': -11.06, 'br_y': 35.76, 'br_x': 4.04},\n",
       "  'france': {'tl_y': 51.07, 'tl_x': -5.18, 'br_y': 42.17, 'br_x': 8.9},\n",
       "  'ceur': {'tl_y': 51.39, 'tl_x': 11.25, 'br_y': 39.72, 'br_x': 32.55},\n",
       "  'scandinavia': {'tl_y': 72.12, 'tl_x': -0.73, 'br_y': 53.82, 'br_x': 40.67},\n",
       "  'italy': {'tl_y': 47.67, 'tl_x': 5.26, 'br_y': 36.27, 'br_x': 20.64}}}"
      ]
     },
     "execution_count": 100,
     "metadata": {},
     "output_type": "execute_result"
    }
   ],
   "source": [
    "fr_api.get_zones()['europe']"
   ]
  },
  {
   "cell_type": "code",
   "execution_count": 21,
   "id": "c8e47783-1133-4bcf-95e9-b60ef14445ea",
   "metadata": {},
   "outputs": [],
   "source": [
    "from pymongo import MongoClient\n",
    "\n",
    "# Initialize MongoClient\n",
    "client = MongoClient('mongodb://172.25.0.22:27017/')\n",
    "db = client.testConsumer # access database\n",
    "collection = db.apidata # access collection"
   ]
  },
  {
   "cell_type": "code",
   "execution_count": null,
   "id": "6482cfa2-9889-442e-ba67-f7f33c65ee73",
   "metadata": {},
   "outputs": [],
   "source": [
    "collection.insert_one(vars(flights[20]))"
   ]
  }
 ],
 "metadata": {
  "kernelspec": {
   "display_name": "Python 3 (ipykernel)",
   "language": "python",
   "name": "python3"
  },
  "language_info": {
   "codemirror_mode": {
    "name": "ipython",
    "version": 3
   },
   "file_extension": ".py",
   "mimetype": "text/x-python",
   "name": "python",
   "nbconvert_exporter": "python",
   "pygments_lexer": "ipython3",
   "version": "3.10.6"
  }
 },
 "nbformat": 4,
 "nbformat_minor": 5
}
